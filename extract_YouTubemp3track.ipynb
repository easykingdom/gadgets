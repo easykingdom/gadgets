{
 "cells": [
  {
   "cell_type": "code",
   "execution_count": 1,
   "id": "74ef9fc8",
   "metadata": {},
   "outputs": [
    {
     "name": "stdout",
     "output_type": "stream",
     "text": [
      "Collecting pytube\n",
      "  Downloading pytube-15.0.0-py3-none-any.whl (57 kB)\n",
      "     ---------------------------------------- 57.6/57.6 kB ? eta 0:00:00\n",
      "Installing collected packages: pytube\n",
      "Successfully installed pytube-15.0.0\n",
      "Note: you may need to restart the kernel to use updated packages.\n"
     ]
    }
   ],
   "source": [
    "pip install pytube"
   ]
  },
  {
   "cell_type": "code",
   "execution_count": 3,
   "id": "0c4e5078",
   "metadata": {},
   "outputs": [],
   "source": [
    "from pytube import YouTube\n",
    "\n",
    "# Specify the YouTube video URL\n",
    "video_url = \"https://www.youtube.com/watch?v=3nyPLUlJCZg&t=12s\"\n",
    "\n",
    "# Create a YouTube object\n",
    "youtube = YouTube(video_url)\n",
    "\n",
    "# Get the audio stream\n",
    "audio_stream = youtube.streams.filter(only_audio=True).first()\n",
    "\n",
    "# Download the audio stream as an MP3 file\n",
    "audio_stream.download(output_path=\"C:/Users/uqyrong/Desktop\", filename=\"audio\")\n",
    "\n",
    "# Rename the downloaded file to have a .mp3 extension\n",
    "import os\n",
    "os.rename(\"C:/Users/uqyrong/Desktop/audio\", \"C:/Users/uqyrong/Desktop/audio.mp3\")"
   ]
  },
  {
   "cell_type": "code",
   "execution_count": null,
   "id": "4f273714",
   "metadata": {},
   "outputs": [],
   "source": []
  }
 ],
 "metadata": {
  "kernelspec": {
   "display_name": "Python 3 (ipykernel)",
   "language": "python",
   "name": "python3"
  },
  "language_info": {
   "codemirror_mode": {
    "name": "ipython",
    "version": 3
   },
   "file_extension": ".py",
   "mimetype": "text/x-python",
   "name": "python",
   "nbconvert_exporter": "python",
   "pygments_lexer": "ipython3",
   "version": "3.9.13"
  }
 },
 "nbformat": 4,
 "nbformat_minor": 5
}
