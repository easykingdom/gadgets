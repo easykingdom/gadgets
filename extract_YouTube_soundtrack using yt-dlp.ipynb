{
 "cells": [
  {
   "cell_type": "code",
   "execution_count": 7,
   "id": "f3b4a3e8-afbc-4304-a382-8ba4573162fa",
   "metadata": {},
   "outputs": [
    {
     "name": "stdout",
     "output_type": "stream",
     "text": [
      "Collecting yt-dlp\n",
      "  Downloading yt_dlp-2025.2.19-py3-none-any.whl.metadata (171 kB)\n",
      "     ---------------------------------------- 0.0/171.9 kB ? eta -:--:--\n",
      "     -- ------------------------------------- 10.2/171.9 kB ? eta -:--:--\n",
      "     ------------- ------------------------- 61.4/171.9 kB 1.1 MB/s eta 0:00:01\n",
      "     -------------------------------------- 171.9/171.9 kB 2.1 MB/s eta 0:00:00\n",
      "Downloading yt_dlp-2025.2.19-py3-none-any.whl (3.2 MB)\n",
      "   ---------------------------------------- 0.0/3.2 MB ? eta -:--:--\n",
      "   ---- ----------------------------------- 0.4/3.2 MB 8.1 MB/s eta 0:00:01\n",
      "   ---------- ----------------------------- 0.8/3.2 MB 8.6 MB/s eta 0:00:01\n",
      "   --------------------- ------------------ 1.7/3.2 MB 12.3 MB/s eta 0:00:01\n",
      "   ---------------------------- ----------- 2.3/3.2 MB 12.2 MB/s eta 0:00:01\n",
      "   ---------------------------------------  3.2/3.2 MB 14.5 MB/s eta 0:00:01\n",
      "   ---------------------------------------- 3.2/3.2 MB 13.6 MB/s eta 0:00:00\n",
      "Installing collected packages: yt-dlp\n",
      "Successfully installed yt-dlp-2025.2.19\n",
      "Note: you may need to restart the kernel to use updated packages.\n"
     ]
    },
    {
     "name": "stderr",
     "output_type": "stream",
     "text": [
      "WARNING: Skipping D:\\Anaconda\\Lib\\site-packages\\astroid-2.14.2.dist-info due to invalid metadata entry 'name'\n",
      "WARNING: Skipping D:\\Anaconda\\Lib\\site-packages\\flake8-7.0.0.dist-info due to invalid metadata entry 'name'\n",
      "WARNING: Skipping D:\\Anaconda\\Lib\\site-packages\\ipykernel-6.28.0.dist-info due to invalid metadata entry 'name'\n",
      "WARNING: Skipping D:\\Anaconda\\Lib\\site-packages\\menuinst-2.0.2.dist-info due to invalid metadata entry 'name'\n",
      "WARNING: Skipping D:\\Anaconda\\Lib\\site-packages\\pycodestyle-2.11.1.dist-info due to invalid metadata entry 'name'\n",
      "WARNING: Skipping D:\\Anaconda\\Lib\\site-packages\\pylint-2.16.2.dist-info due to invalid metadata entry 'name'\n",
      "WARNING: Skipping D:\\Anaconda\\Lib\\site-packages\\python_lsp_server-1.10.0.dist-info due to invalid metadata entry 'name'\n",
      "WARNING: Skipping D:\\Anaconda\\Lib\\site-packages\\QtAwesome-1.2.2.dist-info due to invalid metadata entry 'name'\n",
      "WARNING: Skipping D:\\Anaconda\\Lib\\site-packages\\qtconsole-5.5.1.dist-info due to invalid metadata entry 'name'\n",
      "WARNING: Skipping D:\\Anaconda\\Lib\\site-packages\\astroid-2.14.2.dist-info due to invalid metadata entry 'name'\n",
      "WARNING: Skipping D:\\Anaconda\\Lib\\site-packages\\flake8-7.0.0.dist-info due to invalid metadata entry 'name'\n",
      "WARNING: Skipping D:\\Anaconda\\Lib\\site-packages\\ipykernel-6.28.0.dist-info due to invalid metadata entry 'name'\n",
      "WARNING: Skipping D:\\Anaconda\\Lib\\site-packages\\menuinst-2.0.2.dist-info due to invalid metadata entry 'name'\n",
      "WARNING: Skipping D:\\Anaconda\\Lib\\site-packages\\pycodestyle-2.11.1.dist-info due to invalid metadata entry 'name'\n",
      "WARNING: Skipping D:\\Anaconda\\Lib\\site-packages\\pylint-2.16.2.dist-info due to invalid metadata entry 'name'\n",
      "WARNING: Skipping D:\\Anaconda\\Lib\\site-packages\\python_lsp_server-1.10.0.dist-info due to invalid metadata entry 'name'\n",
      "WARNING: Skipping D:\\Anaconda\\Lib\\site-packages\\QtAwesome-1.2.2.dist-info due to invalid metadata entry 'name'\n",
      "WARNING: Skipping D:\\Anaconda\\Lib\\site-packages\\qtconsole-5.5.1.dist-info due to invalid metadata entry 'name'\n",
      "WARNING: Skipping D:\\Anaconda\\Lib\\site-packages\\spyder_kernels-2.5.0.dist-info due to invalid metadata entry 'name'\n",
      "WARNING: Skipping D:\\Anaconda\\Lib\\site-packages\\yarl-1.9.3.dist-info due to invalid metadata entry 'name'\n",
      "WARNING: Skipping D:\\Anaconda\\Lib\\site-packages\\astroid-2.14.2.dist-info due to invalid metadata entry 'name'\n",
      "WARNING: Skipping D:\\Anaconda\\Lib\\site-packages\\flake8-7.0.0.dist-info due to invalid metadata entry 'name'\n",
      "WARNING: Skipping D:\\Anaconda\\Lib\\site-packages\\ipykernel-6.28.0.dist-info due to invalid metadata entry 'name'\n",
      "WARNING: Skipping D:\\Anaconda\\Lib\\site-packages\\menuinst-2.0.2.dist-info due to invalid metadata entry 'name'\n",
      "WARNING: Skipping D:\\Anaconda\\Lib\\site-packages\\pycodestyle-2.11.1.dist-info due to invalid metadata entry 'name'\n",
      "WARNING: Skipping D:\\Anaconda\\Lib\\site-packages\\pylint-2.16.2.dist-info due to invalid metadata entry 'name'\n",
      "WARNING: Skipping D:\\Anaconda\\Lib\\site-packages\\python_lsp_server-1.10.0.dist-info due to invalid metadata entry 'name'\n",
      "WARNING: Skipping D:\\Anaconda\\Lib\\site-packages\\QtAwesome-1.2.2.dist-info due to invalid metadata entry 'name'\n",
      "WARNING: Skipping D:\\Anaconda\\Lib\\site-packages\\qtconsole-5.5.1.dist-info due to invalid metadata entry 'name'\n",
      "WARNING: Skipping D:\\Anaconda\\Lib\\site-packages\\spyder_kernels-2.5.0.dist-info due to invalid metadata entry 'name'\n",
      "WARNING: Skipping D:\\Anaconda\\Lib\\site-packages\\yarl-1.9.3.dist-info due to invalid metadata entry 'name'\n",
      "WARNING: Skipping D:\\Anaconda\\Lib\\site-packages\\astroid-2.14.2.dist-info due to invalid metadata entry 'name'\n",
      "WARNING: Skipping D:\\Anaconda\\Lib\\site-packages\\flake8-7.0.0.dist-info due to invalid metadata entry 'name'\n",
      "WARNING: Skipping D:\\Anaconda\\Lib\\site-packages\\ipykernel-6.28.0.dist-info due to invalid metadata entry 'name'\n",
      "WARNING: Skipping D:\\Anaconda\\Lib\\site-packages\\menuinst-2.0.2.dist-info due to invalid metadata entry 'name'\n",
      "WARNING: Skipping D:\\Anaconda\\Lib\\site-packages\\pycodestyle-2.11.1.dist-info due to invalid metadata entry 'name'\n",
      "WARNING: Skipping D:\\Anaconda\\Lib\\site-packages\\pylint-2.16.2.dist-info due to invalid metadata entry 'name'\n",
      "WARNING: Skipping D:\\Anaconda\\Lib\\site-packages\\python_lsp_server-1.10.0.dist-info due to invalid metadata entry 'name'\n",
      "WARNING: Skipping D:\\Anaconda\\Lib\\site-packages\\QtAwesome-1.2.2.dist-info due to invalid metadata entry 'name'\n",
      "WARNING: Skipping D:\\Anaconda\\Lib\\site-packages\\qtconsole-5.5.1.dist-info due to invalid metadata entry 'name'\n",
      "WARNING: Skipping D:\\Anaconda\\Lib\\site-packages\\spyder_kernels-2.5.0.dist-info due to invalid metadata entry 'name'\n",
      "WARNING: Skipping D:\\Anaconda\\Lib\\site-packages\\yarl-1.9.3.dist-info due to invalid metadata entry 'name'\n",
      "WARNING: Skipping D:\\Anaconda\\Lib\\site-packages\\astroid-2.14.2.dist-info due to invalid metadata entry 'name'\n",
      "WARNING: Skipping D:\\Anaconda\\Lib\\site-packages\\flake8-7.0.0.dist-info due to invalid metadata entry 'name'\n",
      "WARNING: Skipping D:\\Anaconda\\Lib\\site-packages\\ipykernel-6.28.0.dist-info due to invalid metadata entry 'name'\n",
      "WARNING: Skipping D:\\Anaconda\\Lib\\site-packages\\menuinst-2.0.2.dist-info due to invalid metadata entry 'name'\n",
      "WARNING: Skipping D:\\Anaconda\\Lib\\site-packages\\pycodestyle-2.11.1.dist-info due to invalid metadata entry 'name'\n",
      "WARNING: Skipping D:\\Anaconda\\Lib\\site-packages\\pylint-2.16.2.dist-info due to invalid metadata entry 'name'\n",
      "WARNING: Skipping D:\\Anaconda\\Lib\\site-packages\\python_lsp_server-1.10.0.dist-info due to invalid metadata entry 'name'\n",
      "WARNING: Skipping D:\\Anaconda\\Lib\\site-packages\\QtAwesome-1.2.2.dist-info due to invalid metadata entry 'name'\n",
      "WARNING: Skipping D:\\Anaconda\\Lib\\site-packages\\qtconsole-5.5.1.dist-info due to invalid metadata entry 'name'\n",
      "WARNING: Skipping D:\\Anaconda\\Lib\\site-packages\\astroid-2.14.2.dist-info due to invalid metadata entry 'name'\n",
      "WARNING: Skipping D:\\Anaconda\\Lib\\site-packages\\flake8-7.0.0.dist-info due to invalid metadata entry 'name'\n",
      "WARNING: Skipping D:\\Anaconda\\Lib\\site-packages\\ipykernel-6.28.0.dist-info due to invalid metadata entry 'name'\n",
      "WARNING: Skipping D:\\Anaconda\\Lib\\site-packages\\menuinst-2.0.2.dist-info due to invalid metadata entry 'name'\n",
      "WARNING: Skipping D:\\Anaconda\\Lib\\site-packages\\astroid-2.14.2.dist-info due to invalid metadata entry 'name'\n",
      "WARNING: Skipping D:\\Anaconda\\Lib\\site-packages\\flake8-7.0.0.dist-info due to invalid metadata entry 'name'\n",
      "WARNING: Skipping D:\\Anaconda\\Lib\\site-packages\\ipykernel-6.28.0.dist-info due to invalid metadata entry 'name'\n",
      "WARNING: Skipping D:\\Anaconda\\Lib\\site-packages\\menuinst-2.0.2.dist-info due to invalid metadata entry 'name'\n"
     ]
    }
   ],
   "source": [
    "pip install yt-dlp"
   ]
  },
  {
   "cell_type": "code",
   "execution_count": 9,
   "id": "cabd9427-9ccc-4741-a87a-661ae0401442",
   "metadata": {},
   "outputs": [
    {
     "name": "stdout",
     "output_type": "stream",
     "text": [
      "[youtube] Extracting URL: https://www.youtube.com/watch?v=_IrQHeDcMi8\n",
      "[youtube] _IrQHeDcMi8: Downloading webpage\n",
      "[youtube] _IrQHeDcMi8: Downloading tv client config\n",
      "[youtube] _IrQHeDcMi8: Downloading player 74e4bb46\n",
      "[youtube] _IrQHeDcMi8: Downloading tv player API JSON\n",
      "[youtube] _IrQHeDcMi8: Downloading ios player API JSON\n",
      "[youtube] _IrQHeDcMi8: Downloading m3u8 information\n",
      "[info] _IrQHeDcMi8: Downloading 1 format(s): 251\n",
      "[download] Destination: C:\\temp\\audio.webm\n",
      "[download] 100% of    3.47MiB in 00:00:00 at 9.00MiB/s   \n"
     ]
    },
    {
     "name": "stderr",
     "output_type": "stream",
     "text": [
      "ERROR: Postprocessing: ffprobe and ffmpeg not found. Please install or provide the path using --ffmpeg-location\n"
     ]
    },
    {
     "ename": "DownloadError",
     "evalue": "ERROR: Postprocessing: ffprobe and ffmpeg not found. Please install or provide the path using --ffmpeg-location",
     "output_type": "error",
     "traceback": [
      "\u001b[1;31m---------------------------------------------------------------------------\u001b[0m",
      "\u001b[1;31mPostProcessingError\u001b[0m                       Traceback (most recent call last)",
      "File \u001b[1;32mD:\\Anaconda\\Lib\\site-packages\\yt_dlp\\YoutubeDL.py:3570\u001b[0m, in \u001b[0;36mYoutubeDL.process_info\u001b[1;34m(self, info_dict)\u001b[0m\n\u001b[0;32m   3569\u001b[0m \u001b[38;5;28;01mtry\u001b[39;00m:\n\u001b[1;32m-> 3570\u001b[0m     replace_info_dict(\u001b[38;5;28mself\u001b[39m\u001b[38;5;241m.\u001b[39mpost_process(dl_filename, info_dict, files_to_move))\n\u001b[0;32m   3571\u001b[0m \u001b[38;5;28;01mexcept\u001b[39;00m PostProcessingError \u001b[38;5;28;01mas\u001b[39;00m err:\n",
      "File \u001b[1;32mD:\\Anaconda\\Lib\\site-packages\\yt_dlp\\YoutubeDL.py:3754\u001b[0m, in \u001b[0;36mYoutubeDL.post_process\u001b[1;34m(self, filename, info, files_to_move)\u001b[0m\n\u001b[0;32m   3753\u001b[0m info[\u001b[38;5;124m'\u001b[39m\u001b[38;5;124m__files_to_move\u001b[39m\u001b[38;5;124m'\u001b[39m] \u001b[38;5;241m=\u001b[39m files_to_move \u001b[38;5;129;01mor\u001b[39;00m {}\n\u001b[1;32m-> 3754\u001b[0m info \u001b[38;5;241m=\u001b[39m \u001b[38;5;28mself\u001b[39m\u001b[38;5;241m.\u001b[39mrun_all_pps(\u001b[38;5;124m'\u001b[39m\u001b[38;5;124mpost_process\u001b[39m\u001b[38;5;124m'\u001b[39m, info, additional_pps\u001b[38;5;241m=\u001b[39minfo\u001b[38;5;241m.\u001b[39mget(\u001b[38;5;124m'\u001b[39m\u001b[38;5;124m__postprocessors\u001b[39m\u001b[38;5;124m'\u001b[39m))\n\u001b[0;32m   3755\u001b[0m info \u001b[38;5;241m=\u001b[39m \u001b[38;5;28mself\u001b[39m\u001b[38;5;241m.\u001b[39mrun_pp(MoveFilesAfterDownloadPP(\u001b[38;5;28mself\u001b[39m), info)\n",
      "File \u001b[1;32mD:\\Anaconda\\Lib\\site-packages\\yt_dlp\\YoutubeDL.py:3736\u001b[0m, in \u001b[0;36mYoutubeDL.run_all_pps\u001b[1;34m(self, key, info, additional_pps)\u001b[0m\n\u001b[0;32m   3735\u001b[0m \u001b[38;5;28;01mfor\u001b[39;00m pp \u001b[38;5;129;01min\u001b[39;00m (additional_pps \u001b[38;5;129;01mor\u001b[39;00m []) \u001b[38;5;241m+\u001b[39m \u001b[38;5;28mself\u001b[39m\u001b[38;5;241m.\u001b[39m_pps[key]:\n\u001b[1;32m-> 3736\u001b[0m     info \u001b[38;5;241m=\u001b[39m \u001b[38;5;28mself\u001b[39m\u001b[38;5;241m.\u001b[39mrun_pp(pp, info)\n\u001b[0;32m   3737\u001b[0m \u001b[38;5;28;01mreturn\u001b[39;00m info\n",
      "File \u001b[1;32mD:\\Anaconda\\Lib\\site-packages\\yt_dlp\\YoutubeDL.py:3714\u001b[0m, in \u001b[0;36mYoutubeDL.run_pp\u001b[1;34m(self, pp, infodict)\u001b[0m\n\u001b[0;32m   3713\u001b[0m \u001b[38;5;28;01mtry\u001b[39;00m:\n\u001b[1;32m-> 3714\u001b[0m     files_to_delete, infodict \u001b[38;5;241m=\u001b[39m pp\u001b[38;5;241m.\u001b[39mrun(infodict)\n\u001b[0;32m   3715\u001b[0m \u001b[38;5;28;01mexcept\u001b[39;00m PostProcessingError \u001b[38;5;28;01mas\u001b[39;00m e:\n\u001b[0;32m   3716\u001b[0m     \u001b[38;5;66;03m# Must be True and not 'only_download'\u001b[39;00m\n",
      "File \u001b[1;32mD:\\Anaconda\\Lib\\site-packages\\yt_dlp\\postprocessor\\common.py:22\u001b[0m, in \u001b[0;36mPostProcessorMetaClass.run_wrapper.<locals>.run\u001b[1;34m(self, info, *args, **kwargs)\u001b[0m\n\u001b[0;32m     21\u001b[0m \u001b[38;5;28mself\u001b[39m\u001b[38;5;241m.\u001b[39m_hook_progress({\u001b[38;5;124m'\u001b[39m\u001b[38;5;124mstatus\u001b[39m\u001b[38;5;124m'\u001b[39m: \u001b[38;5;124m'\u001b[39m\u001b[38;5;124mstarted\u001b[39m\u001b[38;5;124m'\u001b[39m}, info_copy)\n\u001b[1;32m---> 22\u001b[0m ret \u001b[38;5;241m=\u001b[39m func(\u001b[38;5;28mself\u001b[39m, info, \u001b[38;5;241m*\u001b[39margs, \u001b[38;5;241m*\u001b[39m\u001b[38;5;241m*\u001b[39mkwargs)\n\u001b[0;32m     23\u001b[0m \u001b[38;5;28;01mif\u001b[39;00m ret \u001b[38;5;129;01mis\u001b[39;00m \u001b[38;5;129;01mnot\u001b[39;00m \u001b[38;5;28;01mNone\u001b[39;00m:\n",
      "File \u001b[1;32mD:\\Anaconda\\Lib\\site-packages\\yt_dlp\\postprocessor\\common.py:127\u001b[0m, in \u001b[0;36mPostProcessor._restrict_to.<locals>.decorator.<locals>.wrapper\u001b[1;34m(self, info)\u001b[0m\n\u001b[0;32m    126\u001b[0m \u001b[38;5;28;01mif\u001b[39;00m allowed[format_type]:\n\u001b[1;32m--> 127\u001b[0m     \u001b[38;5;28;01mreturn\u001b[39;00m func(\u001b[38;5;28mself\u001b[39m, info)\n\u001b[0;32m    128\u001b[0m \u001b[38;5;28;01melse\u001b[39;00m:\n",
      "File \u001b[1;32mD:\\Anaconda\\Lib\\site-packages\\yt_dlp\\postprocessor\\ffmpeg.py:493\u001b[0m, in \u001b[0;36mFFmpegExtractAudioPP.run\u001b[1;34m(self, information)\u001b[0m\n\u001b[0;32m    491\u001b[0m     \u001b[38;5;28;01mreturn\u001b[39;00m [], information\n\u001b[1;32m--> 493\u001b[0m filecodec \u001b[38;5;241m=\u001b[39m \u001b[38;5;28mself\u001b[39m\u001b[38;5;241m.\u001b[39mget_audio_codec(path)\n\u001b[0;32m    494\u001b[0m \u001b[38;5;28;01mif\u001b[39;00m filecodec \u001b[38;5;129;01mis\u001b[39;00m \u001b[38;5;28;01mNone\u001b[39;00m:\n",
      "File \u001b[1;32mD:\\Anaconda\\Lib\\site-packages\\yt_dlp\\postprocessor\\ffmpeg.py:241\u001b[0m, in \u001b[0;36mFFmpegPostProcessor.get_audio_codec\u001b[1;34m(self, path)\u001b[0m\n\u001b[0;32m    240\u001b[0m \u001b[38;5;28;01mif\u001b[39;00m \u001b[38;5;129;01mnot\u001b[39;00m \u001b[38;5;28mself\u001b[39m\u001b[38;5;241m.\u001b[39mprobe_available \u001b[38;5;129;01mand\u001b[39;00m \u001b[38;5;129;01mnot\u001b[39;00m \u001b[38;5;28mself\u001b[39m\u001b[38;5;241m.\u001b[39mavailable:\n\u001b[1;32m--> 241\u001b[0m     \u001b[38;5;28;01mraise\u001b[39;00m PostProcessingError(\u001b[38;5;124m'\u001b[39m\u001b[38;5;124mffprobe and ffmpeg not found. Please install or provide the path using --ffmpeg-location\u001b[39m\u001b[38;5;124m'\u001b[39m)\n\u001b[0;32m    242\u001b[0m \u001b[38;5;28;01mtry\u001b[39;00m:\n",
      "\u001b[1;31mPostProcessingError\u001b[0m: ffprobe and ffmpeg not found. Please install or provide the path using --ffmpeg-location",
      "\nDuring handling of the above exception, another exception occurred:\n",
      "\u001b[1;31mDownloadError\u001b[0m                             Traceback (most recent call last)",
      "Cell \u001b[1;32mIn[9], line 17\u001b[0m\n\u001b[0;32m      6\u001b[0m options \u001b[38;5;241m=\u001b[39m {\n\u001b[0;32m      7\u001b[0m     \u001b[38;5;124m'\u001b[39m\u001b[38;5;124mformat\u001b[39m\u001b[38;5;124m'\u001b[39m: \u001b[38;5;124m'\u001b[39m\u001b[38;5;124mbestaudio/best\u001b[39m\u001b[38;5;124m'\u001b[39m,\n\u001b[0;32m      8\u001b[0m     \u001b[38;5;124m'\u001b[39m\u001b[38;5;124mouttmpl\u001b[39m\u001b[38;5;124m'\u001b[39m: \u001b[38;5;124m'\u001b[39m\u001b[38;5;124mC:/temp/audio.\u001b[39m\u001b[38;5;132;01m%(ext)s\u001b[39;00m\u001b[38;5;124m'\u001b[39m,  \u001b[38;5;66;03m# Save as best available format\u001b[39;00m\n\u001b[1;32m   (...)\u001b[0m\n\u001b[0;32m     13\u001b[0m     }],\n\u001b[0;32m     14\u001b[0m }\n\u001b[0;32m     16\u001b[0m \u001b[38;5;28;01mwith\u001b[39;00m yt_dlp\u001b[38;5;241m.\u001b[39mYoutubeDL(options) \u001b[38;5;28;01mas\u001b[39;00m ydl:\n\u001b[1;32m---> 17\u001b[0m     ydl\u001b[38;5;241m.\u001b[39mdownload([video_url])\n",
      "File \u001b[1;32mD:\\Anaconda\\Lib\\site-packages\\yt_dlp\\YoutubeDL.py:3618\u001b[0m, in \u001b[0;36mYoutubeDL.download\u001b[1;34m(self, url_list)\u001b[0m\n\u001b[0;32m   3615\u001b[0m     \u001b[38;5;28;01mraise\u001b[39;00m SameFileError(outtmpl)\n\u001b[0;32m   3617\u001b[0m \u001b[38;5;28;01mfor\u001b[39;00m url \u001b[38;5;129;01min\u001b[39;00m url_list:\n\u001b[1;32m-> 3618\u001b[0m     \u001b[38;5;28mself\u001b[39m\u001b[38;5;241m.\u001b[39m__download_wrapper(\u001b[38;5;28mself\u001b[39m\u001b[38;5;241m.\u001b[39mextract_info)(\n\u001b[0;32m   3619\u001b[0m         url, force_generic_extractor\u001b[38;5;241m=\u001b[39m\u001b[38;5;28mself\u001b[39m\u001b[38;5;241m.\u001b[39mparams\u001b[38;5;241m.\u001b[39mget(\u001b[38;5;124m'\u001b[39m\u001b[38;5;124mforce_generic_extractor\u001b[39m\u001b[38;5;124m'\u001b[39m, \u001b[38;5;28;01mFalse\u001b[39;00m))\n\u001b[0;32m   3621\u001b[0m \u001b[38;5;28;01mreturn\u001b[39;00m \u001b[38;5;28mself\u001b[39m\u001b[38;5;241m.\u001b[39m_download_retcode\n",
      "File \u001b[1;32mD:\\Anaconda\\Lib\\site-packages\\yt_dlp\\YoutubeDL.py:3591\u001b[0m, in \u001b[0;36mYoutubeDL.__download_wrapper.<locals>.wrapper\u001b[1;34m(*args, **kwargs)\u001b[0m\n\u001b[0;32m   3588\u001b[0m \u001b[38;5;129m@functools\u001b[39m\u001b[38;5;241m.\u001b[39mwraps(func)\n\u001b[0;32m   3589\u001b[0m \u001b[38;5;28;01mdef\u001b[39;00m \u001b[38;5;21mwrapper\u001b[39m(\u001b[38;5;241m*\u001b[39margs, \u001b[38;5;241m*\u001b[39m\u001b[38;5;241m*\u001b[39mkwargs):\n\u001b[0;32m   3590\u001b[0m     \u001b[38;5;28;01mtry\u001b[39;00m:\n\u001b[1;32m-> 3591\u001b[0m         res \u001b[38;5;241m=\u001b[39m func(\u001b[38;5;241m*\u001b[39margs, \u001b[38;5;241m*\u001b[39m\u001b[38;5;241m*\u001b[39mkwargs)\n\u001b[0;32m   3592\u001b[0m     \u001b[38;5;28;01mexcept\u001b[39;00m CookieLoadError:\n\u001b[0;32m   3593\u001b[0m         \u001b[38;5;28;01mraise\u001b[39;00m\n",
      "File \u001b[1;32mD:\\Anaconda\\Lib\\site-packages\\yt_dlp\\YoutubeDL.py:1626\u001b[0m, in \u001b[0;36mYoutubeDL.extract_info\u001b[1;34m(self, url, download, ie_key, extra_info, process, force_generic_extractor)\u001b[0m\n\u001b[0;32m   1624\u001b[0m             \u001b[38;5;28;01mraise\u001b[39;00m ExistingVideoReached\n\u001b[0;32m   1625\u001b[0m         \u001b[38;5;28;01mbreak\u001b[39;00m\n\u001b[1;32m-> 1626\u001b[0m     \u001b[38;5;28;01mreturn\u001b[39;00m \u001b[38;5;28mself\u001b[39m\u001b[38;5;241m.\u001b[39m__extract_info(url, \u001b[38;5;28mself\u001b[39m\u001b[38;5;241m.\u001b[39mget_info_extractor(key), download, extra_info, process)\n\u001b[0;32m   1627\u001b[0m \u001b[38;5;28;01melse\u001b[39;00m:\n\u001b[0;32m   1628\u001b[0m     extractors_restricted \u001b[38;5;241m=\u001b[39m \u001b[38;5;28mself\u001b[39m\u001b[38;5;241m.\u001b[39mparams\u001b[38;5;241m.\u001b[39mget(\u001b[38;5;124m'\u001b[39m\u001b[38;5;124mallowed_extractors\u001b[39m\u001b[38;5;124m'\u001b[39m) \u001b[38;5;129;01mnot\u001b[39;00m \u001b[38;5;129;01min\u001b[39;00m (\u001b[38;5;28;01mNone\u001b[39;00m, [\u001b[38;5;124m'\u001b[39m\u001b[38;5;124mdefault\u001b[39m\u001b[38;5;124m'\u001b[39m])\n",
      "File \u001b[1;32mD:\\Anaconda\\Lib\\site-packages\\yt_dlp\\YoutubeDL.py:1637\u001b[0m, in \u001b[0;36mYoutubeDL._handle_extraction_exceptions.<locals>.wrapper\u001b[1;34m(self, *args, **kwargs)\u001b[0m\n\u001b[0;32m   1635\u001b[0m \u001b[38;5;28;01mwhile\u001b[39;00m \u001b[38;5;28;01mTrue\u001b[39;00m:\n\u001b[0;32m   1636\u001b[0m     \u001b[38;5;28;01mtry\u001b[39;00m:\n\u001b[1;32m-> 1637\u001b[0m         \u001b[38;5;28;01mreturn\u001b[39;00m func(\u001b[38;5;28mself\u001b[39m, \u001b[38;5;241m*\u001b[39margs, \u001b[38;5;241m*\u001b[39m\u001b[38;5;241m*\u001b[39mkwargs)\n\u001b[0;32m   1638\u001b[0m     \u001b[38;5;28;01mexcept\u001b[39;00m (CookieLoadError, DownloadCancelled, LazyList\u001b[38;5;241m.\u001b[39mIndexError, PagedList\u001b[38;5;241m.\u001b[39mIndexError):\n\u001b[0;32m   1639\u001b[0m         \u001b[38;5;28;01mraise\u001b[39;00m\n",
      "File \u001b[1;32mD:\\Anaconda\\Lib\\site-packages\\yt_dlp\\YoutubeDL.py:1793\u001b[0m, in \u001b[0;36mYoutubeDL.__extract_info\u001b[1;34m(self, url, ie, download, extra_info, process)\u001b[0m\n\u001b[0;32m   1791\u001b[0m \u001b[38;5;28;01mif\u001b[39;00m process:\n\u001b[0;32m   1792\u001b[0m     \u001b[38;5;28mself\u001b[39m\u001b[38;5;241m.\u001b[39m_wait_for_video(ie_result)\n\u001b[1;32m-> 1793\u001b[0m     \u001b[38;5;28;01mreturn\u001b[39;00m \u001b[38;5;28mself\u001b[39m\u001b[38;5;241m.\u001b[39mprocess_ie_result(ie_result, download, extra_info)\n\u001b[0;32m   1794\u001b[0m \u001b[38;5;28;01melse\u001b[39;00m:\n\u001b[0;32m   1795\u001b[0m     \u001b[38;5;28;01mreturn\u001b[39;00m ie_result\n",
      "File \u001b[1;32mD:\\Anaconda\\Lib\\site-packages\\yt_dlp\\YoutubeDL.py:1852\u001b[0m, in \u001b[0;36mYoutubeDL.process_ie_result\u001b[1;34m(self, ie_result, download, extra_info)\u001b[0m\n\u001b[0;32m   1850\u001b[0m \u001b[38;5;28;01mif\u001b[39;00m result_type \u001b[38;5;241m==\u001b[39m \u001b[38;5;124m'\u001b[39m\u001b[38;5;124mvideo\u001b[39m\u001b[38;5;124m'\u001b[39m:\n\u001b[0;32m   1851\u001b[0m     \u001b[38;5;28mself\u001b[39m\u001b[38;5;241m.\u001b[39madd_extra_info(ie_result, extra_info)\n\u001b[1;32m-> 1852\u001b[0m     ie_result \u001b[38;5;241m=\u001b[39m \u001b[38;5;28mself\u001b[39m\u001b[38;5;241m.\u001b[39mprocess_video_result(ie_result, download\u001b[38;5;241m=\u001b[39mdownload)\n\u001b[0;32m   1853\u001b[0m     \u001b[38;5;28mself\u001b[39m\u001b[38;5;241m.\u001b[39m_raise_pending_errors(ie_result)\n\u001b[0;32m   1854\u001b[0m     additional_urls \u001b[38;5;241m=\u001b[39m (ie_result \u001b[38;5;129;01mor\u001b[39;00m {})\u001b[38;5;241m.\u001b[39mget(\u001b[38;5;124m'\u001b[39m\u001b[38;5;124madditional_urls\u001b[39m\u001b[38;5;124m'\u001b[39m)\n",
      "File \u001b[1;32mD:\\Anaconda\\Lib\\site-packages\\yt_dlp\\YoutubeDL.py:3024\u001b[0m, in \u001b[0;36mYoutubeDL.process_video_result\u001b[1;34m(self, info_dict, download)\u001b[0m\n\u001b[0;32m   3022\u001b[0m downloaded_formats\u001b[38;5;241m.\u001b[39mappend(new_info)\n\u001b[0;32m   3023\u001b[0m \u001b[38;5;28;01mtry\u001b[39;00m:\n\u001b[1;32m-> 3024\u001b[0m     \u001b[38;5;28mself\u001b[39m\u001b[38;5;241m.\u001b[39mprocess_info(new_info)\n\u001b[0;32m   3025\u001b[0m \u001b[38;5;28;01mexcept\u001b[39;00m MaxDownloadsReached:\n\u001b[0;32m   3026\u001b[0m     max_downloads_reached \u001b[38;5;241m=\u001b[39m \u001b[38;5;28;01mTrue\u001b[39;00m\n",
      "File \u001b[1;32mD:\\Anaconda\\Lib\\site-packages\\yt_dlp\\YoutubeDL.py:177\u001b[0m, in \u001b[0;36m_catch_unsafe_extension_error.<locals>.wrapper\u001b[1;34m(self, *args, **kwargs)\u001b[0m\n\u001b[0;32m    174\u001b[0m \u001b[38;5;129m@functools\u001b[39m\u001b[38;5;241m.\u001b[39mwraps(func)\n\u001b[0;32m    175\u001b[0m \u001b[38;5;28;01mdef\u001b[39;00m \u001b[38;5;21mwrapper\u001b[39m(\u001b[38;5;28mself\u001b[39m, \u001b[38;5;241m*\u001b[39margs, \u001b[38;5;241m*\u001b[39m\u001b[38;5;241m*\u001b[39mkwargs):\n\u001b[0;32m    176\u001b[0m     \u001b[38;5;28;01mtry\u001b[39;00m:\n\u001b[1;32m--> 177\u001b[0m         \u001b[38;5;28;01mreturn\u001b[39;00m func(\u001b[38;5;28mself\u001b[39m, \u001b[38;5;241m*\u001b[39margs, \u001b[38;5;241m*\u001b[39m\u001b[38;5;241m*\u001b[39mkwargs)\n\u001b[0;32m    178\u001b[0m     \u001b[38;5;28;01mexcept\u001b[39;00m _UnsafeExtensionError \u001b[38;5;28;01mas\u001b[39;00m error:\n\u001b[0;32m    179\u001b[0m         \u001b[38;5;28mself\u001b[39m\u001b[38;5;241m.\u001b[39mreport_error(\n\u001b[0;32m    180\u001b[0m             \u001b[38;5;124mf\u001b[39m\u001b[38;5;124m'\u001b[39m\u001b[38;5;124mThe extracted extension (\u001b[39m\u001b[38;5;132;01m{\u001b[39;00merror\u001b[38;5;241m.\u001b[39mextension\u001b[38;5;132;01m!r}\u001b[39;00m\u001b[38;5;124m) is unusual \u001b[39m\u001b[38;5;124m'\u001b[39m\n\u001b[0;32m    181\u001b[0m             \u001b[38;5;124m'\u001b[39m\u001b[38;5;124mand will be skipped for safety reasons. \u001b[39m\u001b[38;5;124m'\u001b[39m\n\u001b[0;32m    182\u001b[0m             \u001b[38;5;124mf\u001b[39m\u001b[38;5;124m'\u001b[39m\u001b[38;5;124mIf you believe this is an error\u001b[39m\u001b[38;5;132;01m{\u001b[39;00mbug_reports_message(\u001b[38;5;124m\"\u001b[39m\u001b[38;5;124m,\u001b[39m\u001b[38;5;124m\"\u001b[39m)\u001b[38;5;132;01m}\u001b[39;00m\u001b[38;5;124m'\u001b[39m)\n",
      "File \u001b[1;32mD:\\Anaconda\\Lib\\site-packages\\yt_dlp\\YoutubeDL.py:3572\u001b[0m, in \u001b[0;36mYoutubeDL.process_info\u001b[1;34m(self, info_dict)\u001b[0m\n\u001b[0;32m   3570\u001b[0m     replace_info_dict(\u001b[38;5;28mself\u001b[39m\u001b[38;5;241m.\u001b[39mpost_process(dl_filename, info_dict, files_to_move))\n\u001b[0;32m   3571\u001b[0m \u001b[38;5;28;01mexcept\u001b[39;00m PostProcessingError \u001b[38;5;28;01mas\u001b[39;00m err:\n\u001b[1;32m-> 3572\u001b[0m     \u001b[38;5;28mself\u001b[39m\u001b[38;5;241m.\u001b[39mreport_error(\u001b[38;5;124mf\u001b[39m\u001b[38;5;124m'\u001b[39m\u001b[38;5;124mPostprocessing: \u001b[39m\u001b[38;5;132;01m{\u001b[39;00merr\u001b[38;5;132;01m}\u001b[39;00m\u001b[38;5;124m'\u001b[39m)\n\u001b[0;32m   3573\u001b[0m     \u001b[38;5;28;01mreturn\u001b[39;00m\n\u001b[0;32m   3574\u001b[0m \u001b[38;5;28;01mtry\u001b[39;00m:\n",
      "File \u001b[1;32mD:\\Anaconda\\Lib\\site-packages\\yt_dlp\\YoutubeDL.py:1095\u001b[0m, in \u001b[0;36mYoutubeDL.report_error\u001b[1;34m(self, message, *args, **kwargs)\u001b[0m\n\u001b[0;32m   1090\u001b[0m \u001b[38;5;28;01mdef\u001b[39;00m \u001b[38;5;21mreport_error\u001b[39m(\u001b[38;5;28mself\u001b[39m, message, \u001b[38;5;241m*\u001b[39margs, \u001b[38;5;241m*\u001b[39m\u001b[38;5;241m*\u001b[39mkwargs):\n\u001b[0;32m   1091\u001b[0m \u001b[38;5;250m    \u001b[39m\u001b[38;5;124;03m\"\"\"\u001b[39;00m\n\u001b[0;32m   1092\u001b[0m \u001b[38;5;124;03m    Do the same as trouble, but prefixes the message with 'ERROR:', colored\u001b[39;00m\n\u001b[0;32m   1093\u001b[0m \u001b[38;5;124;03m    in red if stderr is a tty file.\u001b[39;00m\n\u001b[0;32m   1094\u001b[0m \u001b[38;5;124;03m    \"\"\"\u001b[39;00m\n\u001b[1;32m-> 1095\u001b[0m     \u001b[38;5;28mself\u001b[39m\u001b[38;5;241m.\u001b[39mtrouble(\u001b[38;5;124mf\u001b[39m\u001b[38;5;124m'\u001b[39m\u001b[38;5;132;01m{\u001b[39;00m\u001b[38;5;28mself\u001b[39m\u001b[38;5;241m.\u001b[39m_format_err(\u001b[38;5;124m\"\u001b[39m\u001b[38;5;124mERROR:\u001b[39m\u001b[38;5;124m\"\u001b[39m,\u001b[38;5;250m \u001b[39m\u001b[38;5;28mself\u001b[39m\u001b[38;5;241m.\u001b[39mStyles\u001b[38;5;241m.\u001b[39mERROR)\u001b[38;5;132;01m}\u001b[39;00m\u001b[38;5;124m \u001b[39m\u001b[38;5;132;01m{\u001b[39;00mmessage\u001b[38;5;132;01m}\u001b[39;00m\u001b[38;5;124m'\u001b[39m, \u001b[38;5;241m*\u001b[39margs, \u001b[38;5;241m*\u001b[39m\u001b[38;5;241m*\u001b[39mkwargs)\n",
      "File \u001b[1;32mD:\\Anaconda\\Lib\\site-packages\\yt_dlp\\YoutubeDL.py:1034\u001b[0m, in \u001b[0;36mYoutubeDL.trouble\u001b[1;34m(self, message, tb, is_error)\u001b[0m\n\u001b[0;32m   1032\u001b[0m     \u001b[38;5;28;01melse\u001b[39;00m:\n\u001b[0;32m   1033\u001b[0m         exc_info \u001b[38;5;241m=\u001b[39m sys\u001b[38;5;241m.\u001b[39mexc_info()\n\u001b[1;32m-> 1034\u001b[0m     \u001b[38;5;28;01mraise\u001b[39;00m DownloadError(message, exc_info)\n\u001b[0;32m   1035\u001b[0m \u001b[38;5;28mself\u001b[39m\u001b[38;5;241m.\u001b[39m_download_retcode \u001b[38;5;241m=\u001b[39m \u001b[38;5;241m1\u001b[39m\n",
      "\u001b[1;31mDownloadError\u001b[0m: ERROR: Postprocessing: ffprobe and ffmpeg not found. Please install or provide the path using --ffmpeg-location"
     ]
    }
   ],
   "source": [
    "import yt_dlp\n",
    "\n",
    "video_url = \"https://www.youtube.com/watch?v=_IrQHeDcMi8\"\n",
    "\n",
    "# Set up yt-dlp options\n",
    "options = {\n",
    "    'format': 'bestaudio/best',\n",
    "    'outtmpl': 'C:/temp/audio.%(ext)s',  # Save as best available format\n",
    "    'postprocessors': [{\n",
    "        'key': 'FFmpegExtractAudio',\n",
    "        'preferredcodec': 'mp3',\n",
    "        'preferredquality': '192',\n",
    "    }],\n",
    "}\n",
    "\n",
    "with yt_dlp.YoutubeDL(options) as ydl:\n",
    "    ydl.download([video_url])\n"
   ]
  },
  {
   "cell_type": "code",
   "execution_count": null,
   "id": "106a8bf1-fa39-47e1-91d7-aaeaf228cca4",
   "metadata": {},
   "outputs": [],
   "source": []
  }
 ],
 "metadata": {
  "kernelspec": {
   "display_name": "Python 3 (ipykernel)",
   "language": "python",
   "name": "python3"
  },
  "language_info": {
   "codemirror_mode": {
    "name": "ipython",
    "version": 3
   },
   "file_extension": ".py",
   "mimetype": "text/x-python",
   "name": "python",
   "nbconvert_exporter": "python",
   "pygments_lexer": "ipython3",
   "version": "3.11.7"
  }
 },
 "nbformat": 4,
 "nbformat_minor": 5
}
